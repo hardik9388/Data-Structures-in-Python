{
 "cells": [
  {
   "cell_type": "markdown",
   "id": "4e53e6bc-de53-4ab1-973b-dc8e30456f65",
   "metadata": {},
   "source": [
    "<h2><center>Assignments: Data Structures in Python</center></h2>"
   ]
  },
  {
   "cell_type": "markdown",
   "id": "928e3363-4721-405a-affe-99e95a22994c",
   "metadata": {},
   "source": [
    "<h4>1.Write a code to reverse a string</h4>"
   ]
  },
  {
   "cell_type": "code",
   "execution_count": 22,
   "id": "b4eb555a-34d2-46bd-a275-3543e1ad6eb4",
   "metadata": {},
   "outputs": [
    {
     "name": "stdin",
     "output_type": "stream",
     "text": [
      "Enter a string to reverse: Hello World\n"
     ]
    },
    {
     "name": "stdout",
     "output_type": "stream",
     "text": [
      "Reversed string is:dlroW olleH\n"
     ]
    }
   ],
   "source": [
    "def reversed_text(text):\n",
    "    if len(text)==0:\n",
    "        return ''\n",
    "    return reversed_text(text[1:])+text[0]\n",
    "    \n",
    "text=input('Enter a string to reverse:')\n",
    "print(f'Reversed string is:{reversed_text(text)}')"
   ]
  },
  {
   "cell_type": "markdown",
   "id": "9537ce23-ddf8-4742-a118-42ed76b867ca",
   "metadata": {},
   "source": [
    "<h4>2.Write a code to count the number of vowels in a string</h4>"
   ]
  },
  {
   "cell_type": "code",
   "execution_count": 27,
   "id": "ff5ffba0-587e-47bd-b0bd-3bea0a690e83",
   "metadata": {},
   "outputs": [
    {
     "name": "stdin",
     "output_type": "stream",
     "text": [
      "Enter a string : Hello vowels\n"
     ]
    },
    {
     "name": "stdout",
     "output_type": "stream",
     "text": [
      "Total No. of vowels in string are:4\n"
     ]
    }
   ],
   "source": [
    "text=input('Enter a string :')\n",
    "text=text.lower()\n",
    "total_vowels=text.count('a')+text.count('e')+text.count('i')+text.count('o')+text.count('u')\n",
    "print(f'Total No. of vowels in string are:{total_vowels}')"
   ]
  },
  {
   "cell_type": "markdown",
   "id": "c3cb04ba-5592-42c7-8bfa-eff71fc1a5c9",
   "metadata": {},
   "source": [
    "<h4>3.Write a code to check if a given string is a palindrome or not</h4>"
   ]
  },
  {
   "cell_type": "code",
   "execution_count": 46,
   "id": "d8d59af2-61ce-4e05-bfd6-76b39110399c",
   "metadata": {},
   "outputs": [
    {
     "name": "stdin",
     "output_type": "stream",
     "text": [
      "Enter a string : abcba\n"
     ]
    },
    {
     "name": "stdout",
     "output_type": "stream",
     "text": [
      "abcba is palindrome\n"
     ]
    }
   ],
   "source": [
    "text=input('Enter a string :')\n",
    "if text.lower()==text[::-1].lower():\n",
    "    print(f'{text} is palindrome')\n",
    "else:\n",
    "    print(f'{text} is not palindrome')"
   ]
  },
  {
   "cell_type": "markdown",
   "id": "4db7e29b-db40-4593-b96a-ee3556cea9ea",
   "metadata": {},
   "source": [
    "<h4>4.Write a code to Check if two given strings are anagrams Of each other.</h4>"
   ]
  },
  {
   "cell_type": "code",
   "execution_count": 1,
   "id": "d2a57ec0-ca5e-4164-bf4b-4de35ad777ab",
   "metadata": {},
   "outputs": [
    {
     "name": "stdin",
     "output_type": "stream",
     "text": [
      "Enter a string 1: Night\n",
      "Enter a string 2: \n",
      "Enter a valid string 2: Thing\n"
     ]
    },
    {
     "name": "stdout",
     "output_type": "stream",
     "text": [
      "Strings are anagrams\n"
     ]
    }
   ],
   "source": [
    "text_1=input('Enter a string 1:')\n",
    "while len(text_1) == 0:\n",
    "    text_1=input('Enter a valid string 1:')\n",
    "text_2=input('Enter a string 2:')\n",
    "while len(text_2) == 0:\n",
    "    text_2=input('Enter a valid string 2:')\n",
    "if ''.join(sorted(text_1.lower()))==''.join(sorted(text_2.lower())):\n",
    "    print(f'Strings are anagrams')\n",
    "else:\n",
    "    print(f'Strings are not anagrams')"
   ]
  },
  {
   "cell_type": "markdown",
   "id": "027e9d66-6577-4427-b210-790035a8d213",
   "metadata": {},
   "source": [
    "<h4>5. Write a code to find all occurrences of a given substring within another string.</h4>"
   ]
  },
  {
   "cell_type": "code",
   "execution_count": 19,
   "id": "e0df27a3-383a-45ca-aa7b-774cefe6e00c",
   "metadata": {},
   "outputs": [
    {
     "name": "stdin",
     "output_type": "stream",
     "text": [
      "Enter a string: An antique and\n",
      "Enter a substring: an\n"
     ]
    },
    {
     "name": "stdout",
     "output_type": "stream",
     "text": [
      "Total occurence of --an-- in --An antique and-- is 3 and with indexes [0, 3, 11]\n"
     ]
    }
   ],
   "source": [
    "text_1=input('Enter a string:')\n",
    "while len(text_1) == 0:\n",
    "    text_1=input('Enter a valid string:')\n",
    "text_2=input('Enter a substring:')\n",
    "while len(text_2) == 0:\n",
    "    text_2=input('Enter a valid substring:')\n",
    "total_count=text_1.lower().count(text_2.lower())\n",
    "if total_count == 0:\n",
    "    print('No occurrences found')\n",
    "else:\n",
    "    occur_index=[]\n",
    "    occur_index.append(text_1.lower().index(text_2.lower()))\n",
    "    for i in range(1,total_count):\n",
    "        occur_index.append(occur_index[-1]+len(text_2)-1+text_1[occur_index[-1]+len(text_2):].lower().index(text_2.lower())+1)\n",
    "    print(f'Total occurence of --{text_2}-- in --{text_1}-- is {total_count} and with indexes {occur_index}')"
   ]
  },
  {
   "cell_type": "markdown",
   "id": "4b200eb2-25b3-4347-ab84-962afc95032c",
   "metadata": {},
   "source": [
    "<h4>6. Write a code to perform String compression using the counts Of repeated characters.</h4>"
   ]
  },
  {
   "cell_type": "code",
   "execution_count": 46,
   "id": "deaf5359-020b-4983-b4b4-7b3641526234",
   "metadata": {},
   "outputs": [
    {
     "name": "stdin",
     "output_type": "stream",
     "text": [
      "Enter a string: aabbcccccccccccccccccdddddddddddddeabc\n"
     ]
    },
    {
     "name": "stdout",
     "output_type": "stream",
     "text": [
      "Compressed string with counts is a2b2c17d13eabc\n"
     ]
    }
   ],
   "source": [
    "text_1=input('Enter a string:')\n",
    "while len(text_1) == 0:\n",
    "    text_1=input('Enter a valid string:')\n",
    "text_1=list(text_1)\n",
    "letter=text_1[0]\n",
    "i=1\n",
    "count=1\n",
    "while i <= len(text_1):\n",
    "    if i==len(text_1) :\n",
    "        if count > 1:\n",
    "            del text_1[i-count+1:i]\n",
    "            i=i-count+1\n",
    "            count_list=list(str(count))\n",
    "            for x in count_list:\n",
    "                text_1.insert(i,x)\n",
    "                i+=1\n",
    "        break\n",
    "    elif text_1[i]==letter:\n",
    "        count+=1\n",
    "        i+=1\n",
    "        continue\n",
    "    elif count > 1:\n",
    "        del text_1[i-count+1:i]\n",
    "        i=i-count+1\n",
    "        count_list=list(str(count))\n",
    "        for x in count_list:\n",
    "            text_1.insert(i,x)\n",
    "            i+=1\n",
    "        letter=text_1[i]\n",
    "        count=0\n",
    "    else:\n",
    "        letter=text_1[i]\n",
    "        count=0\n",
    "print(f'Compressed string with counts is {''.join(text_1)}')"
   ]
  },
  {
   "cell_type": "markdown",
   "id": "38e1119c-c4f9-4f05-8a2e-a5cf5dae1448",
   "metadata": {},
   "source": [
    "<h4>7. Write a code to determine if a string has all unique characters.</h4>"
   ]
  },
  {
   "cell_type": "code",
   "execution_count": 58,
   "id": "dc9db51f-0243-4529-992f-92a2c187afbd",
   "metadata": {},
   "outputs": [
    {
     "name": "stdin",
     "output_type": "stream",
     "text": [
      "Enter a string: physics wallah\n"
     ]
    },
    {
     "name": "stdout",
     "output_type": "stream",
     "text": [
      "'physics wallah' has not all unique characters\n"
     ]
    }
   ],
   "source": [
    "text_1=input('Enter a string:')\n",
    "while len(text_1) == 0:\n",
    "    text_1=input('Enter a valid string:')\n",
    "unique_str=set(text_1)\n",
    "if len(unique_str)==len(text_1):\n",
    "    print(f'{text_1} has all unique characters')\n",
    "else:\n",
    "    print(f'\\'{text_1}\\' has not all unique characters')"
   ]
  },
  {
   "cell_type": "markdown",
   "id": "1803437b-a5f0-46fe-9423-e5aff356f6ca",
   "metadata": {},
   "source": [
    "<h4>8. Write a code to convert a given string to uppercase or lowercase.</h4>"
   ]
  },
  {
   "cell_type": "code",
   "execution_count": 60,
   "id": "c68aab88-29e7-4a1b-82a6-998099cf380e",
   "metadata": {},
   "outputs": [
    {
     "name": "stdin",
     "output_type": "stream",
     "text": [
      "Enter a string: Convert my case\n"
     ]
    },
    {
     "name": "stdout",
     "output_type": "stream",
     "text": [
      "Upper Case:CONVERT MY CASE\n",
      "Lower Case:convert my case\n"
     ]
    }
   ],
   "source": [
    "text_1=input('Enter a string:')\n",
    "while len(text_1) == 0:\n",
    "    text_1=input('Enter a valid string:')\n",
    "upper_text=text_1.upper()\n",
    "lower_text=text_1.lower()\n",
    "print(f'Upper Case:{upper_text}')\n",
    "print(f'Lower Case:{lower_text}')"
   ]
  },
  {
   "cell_type": "markdown",
   "id": "1431674d-9e53-4208-a16a-4d7c661866b5",
   "metadata": {},
   "source": [
    "<h4>9. Write a code to count the number of words in a string.</h4>"
   ]
  },
  {
   "cell_type": "code",
   "execution_count": 73,
   "id": "54c344d8-1b2a-47cb-92ca-ddf53adb7466",
   "metadata": {},
   "outputs": [
    {
     "name": "stdin",
     "output_type": "stream",
     "text": [
      "Enter a string: Count total words in my string.\n"
     ]
    },
    {
     "name": "stdout",
     "output_type": "stream",
     "text": [
      "The string 'Count total words in my string.' has 6 words.\n"
     ]
    }
   ],
   "source": [
    "text_1=input('Enter a string:')\n",
    "while len(text_1) == 0:\n",
    "    text_1=input('Enter a valid string:')\n",
    "text_list=text_1.split()\n",
    "print(f'The string \\'{text_1}\\' has {len(text_list)} words.')\n"
   ]
  },
  {
   "cell_type": "markdown",
   "id": "5422c7eb-8643-4e94-ac56-107771836188",
   "metadata": {},
   "source": [
    "<h4>10. Write a code to concatenate two strings without using the + operator.</h4>"
   ]
  },
  {
   "cell_type": "code",
   "execution_count": 80,
   "id": "5d88463b-55f7-4823-8465-714ad157a75a",
   "metadata": {},
   "outputs": [
    {
     "name": "stdin",
     "output_type": "stream",
     "text": [
      "Enter a string 1: Hi\n",
      "Enter a string 2:  I am concatenated\n"
     ]
    },
    {
     "name": "stdout",
     "output_type": "stream",
     "text": [
      "Concatenated String is:Hi I am concatenated\n"
     ]
    }
   ],
   "source": [
    "text_1=input('Enter a string 1:')\n",
    "while len(text_1) == 0:\n",
    "    text_1=input('Enter a valid string 1:')\n",
    "text_2=input('Enter a string 2:')\n",
    "while len(text_2) == 0:\n",
    "    text_2=input('Enter a valid string 2:')\n",
    "text_list=list(text_1)\n",
    "text_list.extend(list(text_2))\n",
    "text_list=''.join(text_list)\n",
    "print(f'Concatenated String is:{text_list}')"
   ]
  },
  {
   "cell_type": "markdown",
   "id": "9be48cc7-bacd-4302-9e7c-72a662f8ed98",
   "metadata": {},
   "source": [
    "<h4>11. Write a code to remove all occurences of a specific element from a list.</h4>"
   ]
  },
  {
   "cell_type": "code",
   "execution_count": 92,
   "id": "7c08cc10-eec1-408c-9459-159f30bc13e2",
   "metadata": {},
   "outputs": [
    {
     "name": "stdin",
     "output_type": "stream",
     "text": [
      "Enter Elemets 2 1 2 2 3 6 7\n",
      "Enter a element to be removed from list: 2\n"
     ]
    },
    {
     "name": "stdout",
     "output_type": "stream",
     "text": [
      "Updated List:[1, 3, 6, 7]\n"
     ]
    }
   ],
   "source": [
    "num_list=list(map(int,input('Enter Elemets').split(' ')))\n",
    "char=int(input('Enter a element to be removed from list:'))\n",
    "char_count=num_list.count(char)\n",
    "while char_count:\n",
    "    num_list.remove(char)\n",
    "    char_count-=1\n",
    "print(f'Updated List:{num_list}')"
   ]
  },
  {
   "cell_type": "markdown",
   "id": "3b2b2e8e-7920-453a-8bab-51ebcd5dfcff",
   "metadata": {},
   "source": [
    "<h4>12. Implement a code to find the second largest number in a given list of integers.</h4>"
   ]
  },
  {
   "cell_type": "code",
   "execution_count": 130,
   "id": "15dd2972-2a64-45ca-8202-83c8e258c175",
   "metadata": {},
   "outputs": [
    {
     "name": "stdin",
     "output_type": "stream",
     "text": [
      "Enter Elements 44 33 22 11 3 4 5 7\n"
     ]
    },
    {
     "name": "stdout",
     "output_type": "stream",
     "text": [
      "Second Largest Element is 33\n"
     ]
    }
   ],
   "source": [
    "num_list=list(map(int,input('Enter Elements').split(' ')))\n",
    "max_num=num_list[0]\n",
    "second_max_num=''\n",
    "for i in range(1,len(num_list)):\n",
    "    if num_list[i] > max_num:\n",
    "        second_max_num=max_num\n",
    "        max_num=num_list[i]\n",
    "    elif (second_max_num=='') and (num_list[i] < max_num):\n",
    "        second_max_num=num_list[i]        \n",
    "    elif (second_max_num!='') and (num_list[i] > second_max_num) and (num_list[i] < max_num):\n",
    "        second_max_num=num_list[i]\n",
    "if second_max_num:\n",
    "    print(f'Second Largest Element is {second_max_num}')\n",
    "else:\n",
    "    print(f'No second largest num')   "
   ]
  },
  {
   "cell_type": "markdown",
   "id": "68c5a24c-e5e8-4b7b-b70d-bf871fb3fa3b",
   "metadata": {},
   "source": [
    "<h4>13. Create a code to count the occurrences of each element in a list and return a dictionary with elements as keys and their counts as values.</h4>"
   ]
  },
  {
   "cell_type": "code",
   "execution_count": 132,
   "id": "71589b51-6cb3-48ca-8f4b-91603f13847e",
   "metadata": {},
   "outputs": [
    {
     "name": "stdin",
     "output_type": "stream",
     "text": [
      "Enter Elements 1 2 3 1 1 4 2 2 3 2\n"
     ]
    },
    {
     "name": "stdout",
     "output_type": "stream",
     "text": [
      "Dictionary with count is{1: 3, 2: 4, 3: 2, 4: 1}\n"
     ]
    }
   ],
   "source": [
    "num_list=list(map(int,input('Enter Elements').split(' ')))\n",
    "count_dict={}\n",
    "for i in set(num_list):\n",
    "    count_dict[i]=num_list.count(i)\n",
    "print(f'Dictionary with count is{count_dict}')"
   ]
  },
  {
   "cell_type": "markdown",
   "id": "54027b57-013a-4db9-901c-816baf1a0cc6",
   "metadata": {},
   "source": [
    "<h4>14. Write a code to reverse a list in—place without using any built—in reverse functions.</h4>"
   ]
  },
  {
   "cell_type": "code",
   "execution_count": 140,
   "id": "2b118315-3571-481f-8d57-1c6b68647591",
   "metadata": {},
   "outputs": [
    {
     "name": "stdin",
     "output_type": "stream",
     "text": [
      "Enter Elements 1 2 3 4 5 6\n"
     ]
    },
    {
     "name": "stdout",
     "output_type": "stream",
     "text": [
      "Reverse list is [6, 5, 4, 3, 2, 1]\n"
     ]
    }
   ],
   "source": [
    "num_list=list(map(int,input('Enter Elements').split(' ')))\n",
    "count=len(num_list)//2\n",
    "for i in range(count):\n",
    "    temp=num_list[i]\n",
    "    num_list[i]=num_list[len(num_list)-i-1]\n",
    "    num_list[len(num_list)-i-1]=temp\n",
    "print(f'Reverse list is {num_list}')"
   ]
  },
  {
   "cell_type": "markdown",
   "id": "e780a41c-4650-4b6d-aec4-e33296348bbf",
   "metadata": {},
   "source": [
    "<h4>15. Implement a code to find and remove duplicates from a list while preserving the original order of elements.</h4>"
   ]
  },
  {
   "cell_type": "code",
   "execution_count": 154,
   "id": "a0d51ba9-1d03-4b02-b1fd-849ea4195de0",
   "metadata": {},
   "outputs": [
    {
     "name": "stdin",
     "output_type": "stream",
     "text": [
      "Enter Elements 2 1 1 55 32 3 4 3 4 22 13 12 12 12\n"
     ]
    },
    {
     "name": "stdout",
     "output_type": "stream",
     "text": [
      "[2, 1, 55, 32, 3, 4, 22, 13, 12]\n"
     ]
    }
   ],
   "source": [
    "num_list=list(map(int,input('Enter Elements').split(' ')))\n",
    "duplicates_list=[]\n",
    "i=0\n",
    "while i < len(num_list):\n",
    "    count=num_list.count(num_list[i])\n",
    "    while count!=1:\n",
    "        index=num_list[i+1:].index(num_list[i])\n",
    "        del num_list[i+index+1]\n",
    "        count-=1\n",
    "    i+=1\n",
    "print(num_list)\n"
   ]
  },
  {
   "cell_type": "markdown",
   "id": "3afa37b9-132e-4af4-b9b7-c3616fa3d620",
   "metadata": {},
   "source": [
    "<h4>16. Create a code to check if a given list is sorted (either in ascending or descending order) or not.</h4>"
   ]
  },
  {
   "cell_type": "code",
   "execution_count": 160,
   "id": "3b55fa6a-ca50-4c2a-a41f-bdd55e7de4c7",
   "metadata": {},
   "outputs": [
    {
     "name": "stdin",
     "output_type": "stream",
     "text": [
      "Enter Elements 1 5 3 1\n"
     ]
    },
    {
     "name": "stdout",
     "output_type": "stream",
     "text": [
      "Given list is not sorted\n"
     ]
    }
   ],
   "source": [
    "def check_sort(num_list):\n",
    "    ascen=0\n",
    "    descen=0\n",
    "    for i in range(len(num_list)-1):\n",
    "        if num_list[i]<num_list[i+1]:\n",
    "            ascen+=1\n",
    "        elif num_list[i]>num_list[i+1]:\n",
    "            descen+=1\n",
    "    if ascen==len(num_list)-1:\n",
    "        print('Given list is sorted in ascending order')\n",
    "    elif descen==len(num_list)-1:\n",
    "        print('Given list is sorted in descending order')\n",
    "    else :\n",
    "        print('Given list is not sorted')\n",
    "num_list=list(map(int,input('Enter Elements').split(' ')))\n",
    "check_sort(num_list)"
   ]
  },
  {
   "cell_type": "markdown",
   "id": "f6827545-b577-4a65-8d5e-81ca6a85e5db",
   "metadata": {},
   "source": [
    "<h4>17. Write a code to merge two sorted lists into a single sorted list.</h4>"
   ]
  },
  {
   "cell_type": "code",
   "execution_count": 171,
   "id": "5717e818-706d-478d-abc0-9a3aa5720db1",
   "metadata": {},
   "outputs": [
    {
     "name": "stdin",
     "output_type": "stream",
     "text": [
      "Enter Elements of list1 3 5 12 23 45\n",
      "Enter Elements of list2 1 2 4 6 77\n"
     ]
    },
    {
     "name": "stdout",
     "output_type": "stream",
     "text": [
      "[1, 2, 3, 4, 5, 6, 12, 23, 45, 77]\n"
     ]
    }
   ],
   "source": [
    "num_list_1=list(map(int,input('Enter Elements of list1').split(' ')))\n",
    "num_list_2=list(map(int,input('Enter Elements of list2').split(' ')))\n",
    "count=len(num_list_1)+len(num_list_2)\n",
    "i=0\n",
    "j=0\n",
    "sorted_list=list()\n",
    "while i+j < count:\n",
    "    if i == len(num_list_1) and j < len(num_list_2):\n",
    "        sorted_list.extend(num_list_2[j:])\n",
    "        break\n",
    "    elif i < len(num_list_1) and j == len(num_list_2):\n",
    "        sorted_list.extend(num_list_1[i:])\n",
    "        break\n",
    "    elif num_list_1[i]<=num_list_2[j]:\n",
    "        sorted_list.append(num_list_1[i])\n",
    "        i+=1\n",
    "    elif num_list_1[i]>num_list_2[j] :\n",
    "        sorted_list.append(num_list_2[j])\n",
    "        j+=1\n",
    "print(sorted_list)"
   ]
  },
  {
   "cell_type": "markdown",
   "id": "115d578a-f05e-4043-b176-0ccb280cfd73",
   "metadata": {},
   "source": [
    "<h4>18. Implement a to find the intersection Of two given lists..</h4>"
   ]
  },
  {
   "cell_type": "code",
   "execution_count": 2,
   "id": "4eb81c31-441f-43b0-a515-6a4464e6a49e",
   "metadata": {},
   "outputs": [
    {
     "name": "stdin",
     "output_type": "stream",
     "text": [
      "Enter Elements of list1 1 2 5 6 8\n",
      "Enter Elements of list2 2 3 5 7 8\n"
     ]
    },
    {
     "name": "stdout",
     "output_type": "stream",
     "text": [
      "Intersection of two given_list is [8, 2, 5]\n"
     ]
    }
   ],
   "source": [
    "num_list_1=list(map(int,input('Enter Elements of list1').split(' ')))\n",
    "num_list_2=list(map(int,input('Enter Elements of list2').split(' ')))\n",
    "print(f'Intersection of two given_list is {list(set(num_list_1).intersection(set(num_list_2)))}')"
   ]
  },
  {
   "cell_type": "markdown",
   "id": "9deb5b72-b7ec-4b43-83f8-6d21171a38e6",
   "metadata": {},
   "source": [
    "<h4>19.Create a code to find the union Of two lists Without duplicates.</h4>"
   ]
  },
  {
   "cell_type": "code",
   "execution_count": 4,
   "id": "a4b061a4-9e75-4312-907f-4e521ce67749",
   "metadata": {},
   "outputs": [
    {
     "name": "stdin",
     "output_type": "stream",
     "text": [
      "Enter Elements of list1 1 1 2 3 6\n",
      "Enter Elements of list2 2 4 6 9 3 4\n"
     ]
    },
    {
     "name": "stdout",
     "output_type": "stream",
     "text": [
      "Union of two given_list is [1, 2, 3, 4, 6, 9]\n"
     ]
    }
   ],
   "source": [
    "num_list_1=list(map(int,input('Enter Elements of list1').split(' ')))\n",
    "num_list_2=list(map(int,input('Enter Elements of list2').split(' ')))\n",
    "print(f'Union of two given_list is {list(set(num_list_1).union(set(num_list_2)))}')"
   ]
  },
  {
   "cell_type": "markdown",
   "id": "dca8fb37-d2da-4bd9-9ea6-801c1ac2cc21",
   "metadata": {},
   "source": [
    "<h4>20. Write a code to shuffle a given list randomly without using any built-in shuffle functions.</h4>"
   ]
  },
  {
   "cell_type": "code",
   "execution_count": 12,
   "id": "774e1661-9d7e-4996-bacd-84a7ea1c2fd9",
   "metadata": {},
   "outputs": [
    {
     "name": "stdin",
     "output_type": "stream",
     "text": [
      "Enter Elements of list 4 7 3 7 55 13\n"
     ]
    },
    {
     "name": "stdout",
     "output_type": "stream",
     "text": [
      "Shuffled List is [4, 55, 7, 3, 13, 7]\n"
     ]
    }
   ],
   "source": [
    "num_list=list(map(int,input('Enter Elements of list').split(' ')))\n",
    "import random\n",
    "for i in range(len(num_list)):\n",
    "    rand_num=random.randint(0,len(num_list)-1)\n",
    "    temp=num_list.pop(rand_num)\n",
    "    num_list.append(temp)\n",
    "print(f'Shuffled List is {num_list}')"
   ]
  },
  {
   "cell_type": "markdown",
   "id": "07c7101e-f6d9-40a2-a300-d380f4a2617c",
   "metadata": {},
   "source": [
    "<h4>21. Write a code that takes two tuples as input and returns a new tuple containing elements that are common to both input tuples.</h4>"
   ]
  },
  {
   "cell_type": "code",
   "execution_count": 4,
   "id": "0b0f47fe-b99a-4ccc-8e4e-abfc6bc6b503",
   "metadata": {},
   "outputs": [
    {
     "name": "stdin",
     "output_type": "stream",
     "text": [
      "Enter Elements of tuple1 1 4 2 6 3\n",
      "Enter Elements of tuple2 55 2 5 3 6 8\n"
     ]
    },
    {
     "name": "stdout",
     "output_type": "stream",
     "text": [
      "Common elements of both tuple are (2, 3, 6)\n"
     ]
    }
   ],
   "source": [
    "num_list_1=tuple(map(int,input('Enter Elements of tuple1').split(' ')))\n",
    "num_list_2=tuple(map(int,input('Enter Elements of tuple2').split(' ')))\n",
    "print(f'Common elements of both tuple are {tuple(set(num_list_1).intersection(set(num_list_2)))}')"
   ]
  },
  {
   "cell_type": "markdown",
   "id": "1ac04bc1-9466-4e64-98fb-a6e6d343b3d0",
   "metadata": {},
   "source": [
    "<h4>22. Create a that prompts the user to enter two sets of integers separated by commas. Then, print the intersection of these two sets.</h4>"
   ]
  },
  {
   "cell_type": "code",
   "execution_count": 5,
   "id": "3b5ed551-01c8-4d9a-86f0-8b0513d27260",
   "metadata": {},
   "outputs": [
    {
     "name": "stdin",
     "output_type": "stream",
     "text": [
      "Enter Elements of set1 seperated by comma 3,2,3,5,2,7,8\n",
      "Enter Elements of set2 seperated by comma 8,5,3,5,9,0,33\n"
     ]
    },
    {
     "name": "stdout",
     "output_type": "stream",
     "text": [
      "Intersection of both sets is {8, 3, 5}\n"
     ]
    }
   ],
   "source": [
    "num_list_1=set(map(int,input('Enter Elements of set1 seperated by comma').split(',')))\n",
    "num_list_2=set(map(int,input('Enter Elements of set2 seperated by comma').split(',')))\n",
    "print(f'Intersection of both sets is {num_list_1.intersection(num_list_2)}')"
   ]
  },
  {
   "cell_type": "markdown",
   "id": "c5c4e15f-1f88-4850-b3d1-1fc15d4e860f",
   "metadata": {},
   "source": [
    "<h4>23. write a code to concatenate two tuples. The function should take two tuples as input and return a new tuple containing elements from both input tuples.</h4>"
   ]
  },
  {
   "cell_type": "code",
   "execution_count": 6,
   "id": "584e9102-84b5-4f17-9bb6-9ca2f2ddc04f",
   "metadata": {},
   "outputs": [
    {
     "name": "stdin",
     "output_type": "stream",
     "text": [
      "Enter Elements of tuple1 3 4 6 2 1 10\n",
      "Enter Elements of tuple2 3 5 2 4 1 3\n"
     ]
    },
    {
     "name": "stdout",
     "output_type": "stream",
     "text": [
      "Common elements of both tuple are (1, 2, 3, 4, 5, 6, 10)\n"
     ]
    }
   ],
   "source": [
    "num_list_1=tuple(map(int,input('Enter Elements of tuple1').split(' ')))\n",
    "num_list_2=tuple(map(int,input('Enter Elements of tuple2').split(' ')))\n",
    "print(f'Common elements of both tuple are {tuple(set(num_list_1).union(set(num_list_2)))}')"
   ]
  },
  {
   "cell_type": "markdown",
   "id": "fbd4acd5-25be-4710-854b-b5812a09cca3",
   "metadata": {},
   "source": [
    "<h4>24. Develop a that prompts the user to input two sets Of strings. Then, print the elements that are present in the first set but not in the second set.</h4>"
   ]
  },
  {
   "cell_type": "code",
   "execution_count": 13,
   "id": "c5171229-476a-421a-8536-2653b3fc3ee0",
   "metadata": {},
   "outputs": [
    {
     "name": "stdin",
     "output_type": "stream",
     "text": [
      "Enter String1 hardik\n",
      "Enter String2 saxena\n"
     ]
    },
    {
     "name": "stdout",
     "output_type": "stream",
     "text": [
      "Elements present in first set but not in second set are {'r', 'k', 'h', 'i', 'd'}\n"
     ]
    }
   ],
   "source": [
    "num_list_1=set(input('Enter String1'))\n",
    "num_list_2=set(input('Enter String2'))\n",
    "print(f'Elements present in first set but not in second set are {num_list_1.difference(num_list_2)}')"
   ]
  },
  {
   "cell_type": "markdown",
   "id": "71eacf70-fc7f-4722-8814-452148182a79",
   "metadata": {},
   "source": [
    "<h4>25. Create a code that takes a tuple and two integers as input. The function should retum a new tuple\n",
    "containing elements trom the original tuple within the specified range Of indices.</h4>"
   ]
  },
  {
   "cell_type": "code",
   "execution_count": 19,
   "id": "7770a9fd-d41a-44bb-b603-9e7d9cf4ae2b",
   "metadata": {},
   "outputs": [
    {
     "name": "stdin",
     "output_type": "stream",
     "text": [
      "Enter Elements of tuple 1 2 3 4 5 6 7 8\n",
      "Enter two integers 1,3\n"
     ]
    },
    {
     "name": "stdout",
     "output_type": "stream",
     "text": [
      "Tuple containing elements within specified indexes is (2, 3, 4)\n"
     ]
    }
   ],
   "source": [
    "num_list_1=tuple(map(int,input('Enter Elements of tuple').split(' ')))\n",
    "a,b=tuple(map(int,input('Enter two integers').split(',')))\n",
    "def ret_tuple(input_tuple,*args):\n",
    "    return input_tuple[args[0]:args[1]+1]\n",
    "new_tuple=ret_tuple(num_list_1,a,b)\n",
    "print(f'Tuple containing elements within specified indexes is {new_tuple}')"
   ]
  },
  {
   "cell_type": "markdown",
   "id": "3063930c-9131-4e6a-9a0a-4323e530c760",
   "metadata": {},
   "source": [
    "<h4>26. Write prompts the user to input two sets Of Then, print the union Of these two sets</h4>"
   ]
  },
  {
   "cell_type": "code",
   "execution_count": 21,
   "id": "29474145-ceae-40a4-a21f-77d7372503dc",
   "metadata": {},
   "outputs": [
    {
     "name": "stdin",
     "output_type": "stream",
     "text": [
      "Enter Elements of set1 seperated by comma 1 2 5 3 2 9 77\n",
      "Enter Elements of set2 seperated by comma 24 1 3 5 6\n"
     ]
    },
    {
     "name": "stdout",
     "output_type": "stream",
     "text": [
      "Union of both sets is {1, 2, 3, 5, 6, 9, 77, 24}\n"
     ]
    }
   ],
   "source": [
    "num_list_1=set(map(int,input('Enter Elements of set1 seperated by comma').split(' ')))\n",
    "num_list_2=set(map(int,input('Enter Elements of set2 seperated by comma').split(' ')))\n",
    "print(f'Union of both sets is {num_list_1.union(num_list_2)}')"
   ]
  },
  {
   "cell_type": "markdown",
   "id": "a48da411-1ec0-4838-bc25-5a5c8ebd4794",
   "metadata": {},
   "source": [
    "<h4>27.A code that takes a tuple Of as input. The function Should return the maximum and minimum values from the tuple using tuple unpacking.</h4>"
   ]
  },
  {
   "cell_type": "code",
   "execution_count": 30,
   "id": "bf2f09e6-2310-4490-b6d3-3dadea3b2919",
   "metadata": {},
   "outputs": [
    {
     "name": "stdin",
     "output_type": "stream",
     "text": [
      "Enter Elements of tuple 3 5 11 66 0\n"
     ]
    },
    {
     "name": "stdout",
     "output_type": "stream",
     "text": [
      "Max and Min of tuple is 66,0\n"
     ]
    }
   ],
   "source": [
    "num_list_1=tuple(map(int,input('Enter Elements of tuple').split(' ')))\n",
    "def get_min_max(*args):\n",
    "    return max(*args),min(*args)\n",
    "max_num,min_num=get_min_max(num_list_1)\n",
    "print(f'Max and Min of tuple is {max_num},{min_num}')"
   ]
  },
  {
   "cell_type": "markdown",
   "id": "a4aea606-98ed-4d23-ac91-2d909e2d4356",
   "metadata": {},
   "source": [
    "<h4>28. Create a code that defines two sets of integers. Then, print the union, and difference of two sets.</h4>"
   ]
  },
  {
   "cell_type": "code",
   "execution_count": 32,
   "id": "0b6ad58b-4369-4f4e-ad79-b4c839f90bfe",
   "metadata": {},
   "outputs": [
    {
     "name": "stdin",
     "output_type": "stream",
     "text": [
      "Enter Elements of set1 seperated by comma 3,1,4,5,66,4\n",
      "Enter Elements of set2 seperated by comma 44,1,2,4,6\n"
     ]
    },
    {
     "name": "stdout",
     "output_type": "stream",
     "text": [
      "Union of both sets is {1, 66, 3, 4, 5, 2, 6, 44}\n",
      "Intersection of both sets is {1, 4}\n"
     ]
    }
   ],
   "source": [
    "num_list_1=set(map(int,input('Enter Elements of set1 seperated by comma').split(',')))\n",
    "num_list_2=set(map(int,input('Enter Elements of set2 seperated by comma').split(',')))\n",
    "print(f'Union of both sets is {num_list_1.union(num_list_2)}')\n",
    "print(f'Intersection of both sets is {num_list_1.intersection(num_list_2)}')"
   ]
  },
  {
   "cell_type": "markdown",
   "id": "0696ea6e-2b0e-4d86-a917-159167035eda",
   "metadata": {},
   "source": [
    "<h4>29. Write that takes a tuple and an element as input. The function should return the count of the given element in the tuple.</h4>"
   ]
  },
  {
   "cell_type": "code",
   "execution_count": 37,
   "id": "5c42aff0-6739-41fe-8e2e-8089b2ebdacd",
   "metadata": {},
   "outputs": [
    {
     "name": "stdin",
     "output_type": "stream",
     "text": [
      "Enter Elements of tuple 4 2 4 6 1 4 3\n",
      "Enter a element 4\n"
     ]
    },
    {
     "name": "stdout",
     "output_type": "stream",
     "text": [
      "Count of 4 in (4, 2, 4, 6, 1, 4, 3) is 3\n"
     ]
    }
   ],
   "source": [
    "num_list_1=tuple(map(int,input('Enter Elements of tuple').split(' ')))\n",
    "a=int(input('Enter a element'))\n",
    "print(f'Count of {a} in {num_list_1} is {num_list_1.count(a)}')"
   ]
  },
  {
   "cell_type": "markdown",
   "id": "7b23ee85-919b-4f5a-8479-84330ff96d16",
   "metadata": {},
   "source": [
    "<h4>30. Develop a code that prompts the user to input two sets of strings. Then, print the symmetric difference of these two sets.</h4>"
   ]
  },
  {
   "cell_type": "code",
   "execution_count": 35,
   "id": "082bf273-8d51-4e4e-8268-a2bd7fb2125f",
   "metadata": {},
   "outputs": [
    {
     "name": "stdin",
     "output_type": "stream",
     "text": [
      "Enter Elements of set1 seperated by comma a,g,s,q,e\n",
      "Enter Elements of set2 seperated by comma q,w,e,r,w\n"
     ]
    },
    {
     "name": "stdout",
     "output_type": "stream",
     "text": [
      "Symmetric diff.of both sets is {'r', 'a', 's', 'w', 'g'}\n"
     ]
    }
   ],
   "source": [
    "num_list_1=set(map(str,input('Enter Elements of set1 seperated by comma').split(',')))\n",
    "num_list_2=set(map(str,input('Enter Elements of set2 seperated by comma').split(',')))\n",
    "print(f'Symmetric diff.of both sets is {num_list_1.symmetric_difference(num_list_2)}')"
   ]
  },
  {
   "cell_type": "markdown",
   "id": "6f1388d4-1cf9-45d1-9c94-564a9b05895b",
   "metadata": {},
   "source": [
    "<h4>31.Write Code takes a fist Of words input and returns a dictionary Where the keys are unique words and the values are the frequencies Of those words in the input list.</h4>"
   ]
  },
  {
   "cell_type": "code",
   "execution_count": 41,
   "id": "bf817a2c-8250-4fd4-9d89-25aeb8927b30",
   "metadata": {},
   "outputs": [
    {
     "name": "stdin",
     "output_type": "stream",
     "text": [
      "Enter Elements of list1 all good all happy\n"
     ]
    },
    {
     "name": "stdout",
     "output_type": "stream",
     "text": [
      "{'good': 1, 'happy': 1, 'all': 2}\n"
     ]
    }
   ],
   "source": [
    "num_list_1=list(map(str,input('Enter Elements of list1').split(' ')))\n",
    "count_dict=dict()\n",
    "for word in set(num_list_1):\n",
    "    count_dict[word]=num_list_1.count(word)\n",
    "print(count_dict)"
   ]
  },
  {
   "cell_type": "markdown",
   "id": "9593af6e-70d2-42bc-802c-b69c896b623a",
   "metadata": {},
   "source": [
    "<h4>32. Write a code that takes two dictionaries as input and merges them into a single dictionary. If there are\n",
    "common keys, the values should be added</h4>"
   ]
  },
  {
   "cell_type": "code",
   "execution_count": 49,
   "id": "71593ae2-c508-4b73-94e4-93ba09617238",
   "metadata": {},
   "outputs": [
    {
     "name": "stdout",
     "output_type": "stream",
     "text": [
      "Update Dictionary is {'Domain': 'Skills', 'Domain1': 'Wallah', 'Name': ['PW', 'Physics']}\n"
     ]
    }
   ],
   "source": [
    "dict_1={'Name':'PW','Domain':'Skills'}\n",
    "dict_2={'Name':'Physics','Domain1':'Wallah'}\n",
    "key_set=(set(dict_1.keys())| set(dict_2.keys()))\n",
    "updated_dict=dict()\n",
    "for key in key_set:\n",
    "    if (key in dict_1) and (key in dict_2):\n",
    "        updated_dict[key]=[dict_1[key],dict_2[key]]\n",
    "    else:\n",
    "        try:\n",
    "            updated_dict[key]=dict_1[key]\n",
    "        except KeyError as k:\n",
    "            updated_dict[key]=dict_2[key]\n",
    "print(f'Update Dictionary is {updated_dict}')"
   ]
  },
  {
   "cell_type": "markdown",
   "id": "200192ea-c1d5-4f47-9968-bd8d3017aade",
   "metadata": {},
   "source": [
    "<h4>33. Write a code to access a value in a nested dictionary. The function should take the dictionary and a list Of\n",
    "keys as input. and return the correspnding value. If any Of the keys do not exist in the dictionary, the\n",
    "function should return None.</h4>"
   ]
  },
  {
   "cell_type": "code",
   "execution_count": 58,
   "id": "8580334f-f44b-4af1-a831-5a7b97700d41",
   "metadata": {},
   "outputs": [
    {
     "name": "stdout",
     "output_type": "stream",
     "text": [
      "Values corresponding to keys are ['PW', 'Skills', 'Data Structures', None]\n"
     ]
    }
   ],
   "source": [
    "dict_1={'Name':'PW','Domain':'Skills','Subject':'Data Structures'}\n",
    "keys=['Name','Domain','Subject','Software']\n",
    "def get_value(key_list,kwargs):\n",
    "    key_value=list()\n",
    "    for key in key_list:\n",
    "        if key in kwargs.keys():\n",
    "            key_value.append(kwargs[key])\n",
    "        else:\n",
    "            key_value.append(None)\n",
    "    return key_value\n",
    "key_value=get_value(keys,dict_1)\n",
    "print(f'Values corresponding to keys are {key_value}')"
   ]
  },
  {
   "cell_type": "markdown",
   "id": "94767184-5ea2-433c-b064-8a71a9f3729c",
   "metadata": {},
   "source": [
    "<h4>34. Write a code that takes a dictionary as input and retums a sorted version of it based on the values. You\n",
    "can choose whether to sort in ascending or descending order.</h4>"
   ]
  },
  {
   "cell_type": "code",
   "execution_count": 74,
   "id": "f92cfc3c-aa7c-4aac-8881-1567cc760dc2",
   "metadata": {},
   "outputs": [
    {
     "name": "stdout",
     "output_type": "stream",
     "text": [
      "Dictionary sorted in ascending:{'Subject': 'Data Structures', 'Name': 'PW', 'Domain': 'Skills'}\n",
      "Dictionary sorted in descending:{'Domain': 'Skills', 'Name': 'PW', 'Subject': 'Data Structures'}\n"
     ]
    }
   ],
   "source": [
    "dict_1={'Name':'PW','Domain':'Skills','Subject':'Data Structures'}\n",
    "print(f'Dictionary sorted in ascending:{dict(sorted(dict_1.items(),key=lambda x:x[1]))}')\n",
    "print(f'Dictionary sorted in descending:{dict(sorted(dict_1.items(),key=lambda x:x[1],reverse=True))}')"
   ]
  },
  {
   "cell_type": "markdown",
   "id": "29dcb664-4876-4d7a-9ac4-73c31f2c31a8",
   "metadata": {},
   "source": [
    "<h4>35. Write a code that inverts a dictionary. Swapping keys and values. Ensure that the\n",
    "it corrEtly handles cases where multiple keys have the same value by the keys as a list in the\n",
    "dictionary.</h4>"
   ]
  },
  {
   "cell_type": "code",
   "execution_count": 111,
   "id": "091bd30e-347b-4dae-9704-e3729ce898e6",
   "metadata": {},
   "outputs": [
    {
     "name": "stdout",
     "output_type": "stream",
     "text": [
      "Inverted Dict is {'PW': ['Name', 'Alias', 'Other'], 'Skills': 'Domain', 'Data Structures': 'Subject'}\n"
     ]
    }
   ],
   "source": [
    "dict_1={'Name':'PW','Domain':'Skills','Subject':'Data Structures','Alias':'PW','Other':'PW'}\n",
    "keys=tuple(dict_1.keys())\n",
    "values=tuple(dict_1.values())\n",
    "for k,v in zip(keys,values):\n",
    "    if v not in dict_1.keys():\n",
    "        dict_1[v]=k\n",
    "        del dict_1[k]\n",
    "    else:\n",
    "        if type(dict_1[v])==list:\n",
    "            dict_1[v].append(k)\n",
    "        else:\n",
    "            temp=dict_1[v]\n",
    "            dict_1[v]=list()\n",
    "            dict_1[v].extend([temp,k])\n",
    "        del dict_1[k]\n",
    "print(f'Inverted Dict is {dict_1}')\n",
    "            "
   ]
  }
 ],
 "metadata": {
  "kernelspec": {
   "display_name": "Python 3 (ipykernel)",
   "language": "python",
   "name": "python3"
  },
  "language_info": {
   "codemirror_mode": {
    "name": "ipython",
    "version": 3
   },
   "file_extension": ".py",
   "mimetype": "text/x-python",
   "name": "python",
   "nbconvert_exporter": "python",
   "pygments_lexer": "ipython3",
   "version": "3.12.3"
  }
 },
 "nbformat": 4,
 "nbformat_minor": 5
}
